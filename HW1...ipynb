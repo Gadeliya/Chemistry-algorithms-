{
 "cells": [
  {
   "cell_type": "code",
   "execution_count": 39,
   "metadata": {
    "collapsed": true
   },
   "outputs": [
    {
     "name": "stdout",
     "output_type": "stream",
     "text": [
      "Requirement already satisfied: rdkit in c:\\users\\user\\pycharmprojects\\pythonproject4\\venv\\lib\\site-packages (2022.9.5)\n",
      "Requirement already satisfied: numpy in c:\\users\\user\\pycharmprojects\\pythonproject4\\venv\\lib\\site-packages (from rdkit) (1.24.2)\n",
      "Requirement already satisfied: Pillow in c:\\users\\user\\pycharmprojects\\pythonproject4\\venv\\lib\\site-packages (from rdkit) (9.4.0)\n"
     ]
    },
    {
     "name": "stderr",
     "output_type": "stream",
     "text": [
      "\n",
      "[notice] A new release of pip available: 22.3.1 -> 23.0.1\n",
      "[notice] To update, run: python.exe -m pip install --upgrade pip\n"
     ]
    },
    {
     "name": "stdout",
     "output_type": "stream",
     "text": [
      "Requirement already satisfied: mordred in c:\\users\\user\\pycharmprojects\\pythonproject4\\venv\\lib\\site-packages (1.2.0)\n",
      "Requirement already satisfied: six==1.* in c:\\users\\user\\pycharmprojects\\pythonproject4\\venv\\lib\\site-packages (from mordred) (1.16.0)\n",
      "Requirement already satisfied: numpy==1.* in c:\\users\\user\\pycharmprojects\\pythonproject4\\venv\\lib\\site-packages (from mordred) (1.24.2)\n",
      "Requirement already satisfied: networkx==2.* in c:\\users\\user\\pycharmprojects\\pythonproject4\\venv\\lib\\site-packages (from mordred) (2.8.8)\n"
     ]
    },
    {
     "name": "stderr",
     "output_type": "stream",
     "text": [
      "\n",
      "[notice] A new release of pip available: 22.3.1 -> 23.0.1\n",
      "[notice] To update, run: python.exe -m pip install --upgrade pip\n"
     ]
    },
    {
     "name": "stdout",
     "output_type": "stream",
     "text": [
      "Requirement already satisfied: pubchempy in c:\\users\\user\\pycharmprojects\\pythonproject4\\venv\\lib\\site-packages (1.0.4)\n"
     ]
    },
    {
     "name": "stderr",
     "output_type": "stream",
     "text": [
      "\n",
      "[notice] A new release of pip available: 22.3.1 -> 23.0.1\n",
      "[notice] To update, run: python.exe -m pip install --upgrade pip\n"
     ]
    }
   ],
   "source": [
    "import mordred\n",
    "!pip install rdkit\n",
    "!pip install mordred\n",
    "!pip install pubchempy"
   ]
  },
  {
   "cell_type": "code",
   "execution_count": 40,
   "outputs": [],
   "source": [
    "import pandas as pd\n",
    "import numpy as np\n",
    "import pubchempy as pcp\n",
    "from mordred import Calculator, descriptors\n",
    "from rdkit import Chem\n",
    "from rdkit.Chem import Descriptors\n",
    "from rdkit.ML.Descriptors import MoleculeDescriptors\n",
    "from rdkit.Chem import rdMolDescriptors\n",
    "from urllib.request import urlopen\n",
    "from urllib.parse import quote"
   ],
   "metadata": {
    "collapsed": false
   }
  },
  {
   "cell_type": "markdown",
   "source": [
    "For homework, we chose 8 datasets"
   ],
   "metadata": {
    "collapsed": false
   }
  },
  {
   "cell_type": "code",
   "execution_count": 41,
   "outputs": [],
   "source": [
    "df = pd.read_csv(r\"C:\\Users\\user\\Desktop\\python\\8.csv\")"
   ],
   "metadata": {
    "collapsed": false
   }
  },
  {
   "cell_type": "markdown",
   "source": [
    "Data Preparation\n",
    "For now, we remove all lines where there is nothing in Name"
   ],
   "metadata": {
    "collapsed": false
   }
  },
  {
   "cell_type": "code",
   "execution_count": 42,
   "outputs": [
    {
     "data": {
      "text/plain": "                                                    DOI        Date  \\\n0     10.1039/C6RA04584G_© The Royal Society of Chem...         NaN   \n1                            10.1016/j.mssp.2013.07.031   8/24/2013   \n2                                    10.1039/C7NR03175K         NaN   \n3                             10.1016/j.saa.2012.10.018  10/24/2012   \n4     10.1016/j.conbuildmat.2018.05.016Construction ...         NaN   \n...                                                 ...         ...   \n4975                         10.1016/j.poly.2011.03.003   3/17/2011   \n4976                    10.1016/j.optlastec.2019.01.028    2/6/2019   \n4977                          10.1016/j.ssc.2010.03.031    4/8/2010   \n4978                       10.1016/j.molliq.2017.05.096   5/23/2017   \n4979                          10.1016/j.tsf.2016.08.074   9/20/2016   \n\n                                                Journal  \\\n0                                                   NaN   \n1         Materials Science in Semiconductor Processing   \n2                                                   NaN   \n3     Spectrochimica Acta Part A: Molecular and Biom...   \n4                                                   NaN   \n...                                                 ...   \n4975                                         Polyhedron   \n4976                          Optics & Laser Technology   \n4977                         Solid State Communications   \n4978                       Journal of Molecular Liquids   \n4979                                   Thin Solid Films   \n\n                                                  Title          Name  \\\n0                                                   NaN      silicate   \n1     PREPARATIONCHARACTERIZATIONAPPLICATIONRFSPUTTE...           BSG   \n2                                                   NaN        silica   \n3     SOLVENTEFFECTABSORPTIONFLUORESCENCESPECTRA7ACE...           DMF   \n4                                                   NaN        silica   \n...                                                 ...           ...   \n4975  PHOTOPHYSICALPROPERTIESPHOTOCYTOTOXICITYNOVELP...    2-Propanol   \n4976  SPECTROCHEMICALSTUDYMOLDAVITESRIESIMPACTSTRUCT...           MgO   \n4977  BROADBAND15MEMISSIONHIGHERBIUMDOPEDBI2O3B2O3GA...      Silicate   \n4978  SOLVATOCHROMICANALYSISDFTCOMPUTATIONALSTUDYAZO...  Diethylether   \n4979  CHARACTERIZATIONZINCOXIDEFILMSDEPOSITEDINHELIU...           ZnO   \n\n      measurement_error measurement_wavelength measurement_method  \\\n0                  0.04                    NaN           snowball   \n1                  0.00                    NaN         el_mylogic   \n2                  0.00                    NaN           snowball   \n3                  0.00                    NaN         el_mylogic   \n4                  0.00                    NaN           snowball   \n...                 ...                    ...                ...   \n4975               0.00                    NaN         el_mylogic   \n4976               0.00                    NaN      el_cde_tables   \n4977               0.00                    NaN      el_cde_tables   \n4978               0.00                    NaN         el_mylogic   \n4979               0.00                    NaN         el_mylogic   \n\n                normalised_name    raw_value                 specifier  \n0                           NaN  1.21 – 1.13          refractive index  \n1     [['B', 1.0], ['SG', 1.0]]         1.41      Refractive index (n)  \n2                      O=[Si]=O         1.48          refraction index  \n3                      CN(C)C=O       1.4305                         n  \n4                      O=[Si]=O         1.46          refractive index  \n...                         ...          ...                       ...  \n4975                        NaN        1.377  Refractive index (20 °C)  \n4976  [['Mg', 1.0], ['O', 1.0]]         1.75                         n  \n4977                        NaN        1.585          Refractive index  \n4978                      CCOCC       1.3526                         n  \n4979  [['O', 1.0], ['Zn', 1.0]]         2.51      Refractive index (n)  \n\n[4980 rows x 11 columns]",
      "text/html": "<div>\n<style scoped>\n    .dataframe tbody tr th:only-of-type {\n        vertical-align: middle;\n    }\n\n    .dataframe tbody tr th {\n        vertical-align: top;\n    }\n\n    .dataframe thead th {\n        text-align: right;\n    }\n</style>\n<table border=\"1\" class=\"dataframe\">\n  <thead>\n    <tr style=\"text-align: right;\">\n      <th></th>\n      <th>DOI</th>\n      <th>Date</th>\n      <th>Journal</th>\n      <th>Title</th>\n      <th>Name</th>\n      <th>measurement_error</th>\n      <th>measurement_wavelength</th>\n      <th>measurement_method</th>\n      <th>normalised_name</th>\n      <th>raw_value</th>\n      <th>specifier</th>\n    </tr>\n  </thead>\n  <tbody>\n    <tr>\n      <th>0</th>\n      <td>10.1039/C6RA04584G_© The Royal Society of Chem...</td>\n      <td>NaN</td>\n      <td>NaN</td>\n      <td>NaN</td>\n      <td>silicate</td>\n      <td>0.04</td>\n      <td>NaN</td>\n      <td>snowball</td>\n      <td>NaN</td>\n      <td>1.21 – 1.13</td>\n      <td>refractive index</td>\n    </tr>\n    <tr>\n      <th>1</th>\n      <td>10.1016/j.mssp.2013.07.031</td>\n      <td>8/24/2013</td>\n      <td>Materials Science in Semiconductor Processing</td>\n      <td>PREPARATIONCHARACTERIZATIONAPPLICATIONRFSPUTTE...</td>\n      <td>BSG</td>\n      <td>0.00</td>\n      <td>NaN</td>\n      <td>el_mylogic</td>\n      <td>[['B', 1.0], ['SG', 1.0]]</td>\n      <td>1.41</td>\n      <td>Refractive index (n)</td>\n    </tr>\n    <tr>\n      <th>2</th>\n      <td>10.1039/C7NR03175K</td>\n      <td>NaN</td>\n      <td>NaN</td>\n      <td>NaN</td>\n      <td>silica</td>\n      <td>0.00</td>\n      <td>NaN</td>\n      <td>snowball</td>\n      <td>O=[Si]=O</td>\n      <td>1.48</td>\n      <td>refraction index</td>\n    </tr>\n    <tr>\n      <th>3</th>\n      <td>10.1016/j.saa.2012.10.018</td>\n      <td>10/24/2012</td>\n      <td>Spectrochimica Acta Part A: Molecular and Biom...</td>\n      <td>SOLVENTEFFECTABSORPTIONFLUORESCENCESPECTRA7ACE...</td>\n      <td>DMF</td>\n      <td>0.00</td>\n      <td>NaN</td>\n      <td>el_mylogic</td>\n      <td>CN(C)C=O</td>\n      <td>1.4305</td>\n      <td>n</td>\n    </tr>\n    <tr>\n      <th>4</th>\n      <td>10.1016/j.conbuildmat.2018.05.016Construction ...</td>\n      <td>NaN</td>\n      <td>NaN</td>\n      <td>NaN</td>\n      <td>silica</td>\n      <td>0.00</td>\n      <td>NaN</td>\n      <td>snowball</td>\n      <td>O=[Si]=O</td>\n      <td>1.46</td>\n      <td>refractive index</td>\n    </tr>\n    <tr>\n      <th>...</th>\n      <td>...</td>\n      <td>...</td>\n      <td>...</td>\n      <td>...</td>\n      <td>...</td>\n      <td>...</td>\n      <td>...</td>\n      <td>...</td>\n      <td>...</td>\n      <td>...</td>\n      <td>...</td>\n    </tr>\n    <tr>\n      <th>4975</th>\n      <td>10.1016/j.poly.2011.03.003</td>\n      <td>3/17/2011</td>\n      <td>Polyhedron</td>\n      <td>PHOTOPHYSICALPROPERTIESPHOTOCYTOTOXICITYNOVELP...</td>\n      <td>2-Propanol</td>\n      <td>0.00</td>\n      <td>NaN</td>\n      <td>el_mylogic</td>\n      <td>NaN</td>\n      <td>1.377</td>\n      <td>Refractive index (20 °C)</td>\n    </tr>\n    <tr>\n      <th>4976</th>\n      <td>10.1016/j.optlastec.2019.01.028</td>\n      <td>2/6/2019</td>\n      <td>Optics &amp; Laser Technology</td>\n      <td>SPECTROCHEMICALSTUDYMOLDAVITESRIESIMPACTSTRUCT...</td>\n      <td>MgO</td>\n      <td>0.00</td>\n      <td>NaN</td>\n      <td>el_cde_tables</td>\n      <td>[['Mg', 1.0], ['O', 1.0]]</td>\n      <td>1.75</td>\n      <td>n</td>\n    </tr>\n    <tr>\n      <th>4977</th>\n      <td>10.1016/j.ssc.2010.03.031</td>\n      <td>4/8/2010</td>\n      <td>Solid State Communications</td>\n      <td>BROADBAND15MEMISSIONHIGHERBIUMDOPEDBI2O3B2O3GA...</td>\n      <td>Silicate</td>\n      <td>0.00</td>\n      <td>NaN</td>\n      <td>el_cde_tables</td>\n      <td>NaN</td>\n      <td>1.585</td>\n      <td>Refractive index</td>\n    </tr>\n    <tr>\n      <th>4978</th>\n      <td>10.1016/j.molliq.2017.05.096</td>\n      <td>5/23/2017</td>\n      <td>Journal of Molecular Liquids</td>\n      <td>SOLVATOCHROMICANALYSISDFTCOMPUTATIONALSTUDYAZO...</td>\n      <td>Diethylether</td>\n      <td>0.00</td>\n      <td>NaN</td>\n      <td>el_mylogic</td>\n      <td>CCOCC</td>\n      <td>1.3526</td>\n      <td>n</td>\n    </tr>\n    <tr>\n      <th>4979</th>\n      <td>10.1016/j.tsf.2016.08.074</td>\n      <td>9/20/2016</td>\n      <td>Thin Solid Films</td>\n      <td>CHARACTERIZATIONZINCOXIDEFILMSDEPOSITEDINHELIU...</td>\n      <td>ZnO</td>\n      <td>0.00</td>\n      <td>NaN</td>\n      <td>el_mylogic</td>\n      <td>[['O', 1.0], ['Zn', 1.0]]</td>\n      <td>2.51</td>\n      <td>Refractive index (n)</td>\n    </tr>\n  </tbody>\n</table>\n<p>4980 rows × 11 columns</p>\n</div>"
     },
     "execution_count": 42,
     "metadata": {},
     "output_type": "execute_result"
    }
   ],
   "source": [
    "df = df[~df['Name'].isna()]\n",
    "df = df.drop_duplicates().reset_index(drop=True)\n",
    "df"
   ],
   "metadata": {
    "collapsed": false
   }
  },
  {
   "cell_type": "markdown",
   "source": [
    "Replace unnecessary characters with commas to split the string"
   ],
   "metadata": {
    "collapsed": false
   }
  },
  {
   "cell_type": "code",
   "execution_count": 43,
   "outputs": [],
   "source": [
    "df['raw_value'] = df['raw_value'].str.replace('–', ',')\n",
    "df['raw_value'] = df['raw_value'].str.replace('±', ',')\n",
    "df['raw_value'] = df['raw_value'].str.replace('~', ',')\n",
    "df['raw_value'] = df['raw_value'].str.replace(' , ', ',')\n",
    "df['raw_value'] = df['raw_value'].str.replace(' - ', ',')\n",
    "df['raw_value'] = df['raw_value'].str.replace(' to ', ',')\n",
    "df['raw_value'] = df['raw_value'].str.replace('/', ',')"
   ],
   "metadata": {
    "collapsed": false
   }
  },
  {
   "cell_type": "code",
   "execution_count": 44,
   "outputs": [],
   "source": [
    "df = df.join(\n",
    "    df['raw_value'].str.split(',', expand=True).rename(columns={0:'r_v2', 1:'r_v3'}))"
   ],
   "metadata": {
    "collapsed": false
   }
  },
  {
   "cell_type": "markdown",
   "source": [
    "Split the numbers between signs into [r_v2] and [r_v3] columns"
   ],
   "metadata": {
    "collapsed": false
   }
  },
  {
   "cell_type": "code",
   "execution_count": 45,
   "outputs": [],
   "source": [
    "import re\n",
    "\n",
    "# define a regular expression pattern to match numbers\n",
    "pattern = re.compile(r'\\d+\\.?\\d*')\n",
    "\n",
    "# apply the pattern to each element in the list and convert to float\n",
    "float\n",
    "df['r_v2'] = df['r_v2'].apply(lambda x: float(pattern.search(str(x)).group()) if pattern.search(str(x)) else None)\n",
    "df['r_v3'] = df['r_v3'].apply(lambda x: float(pattern.search(str(x)).group()) if pattern.search(str(x)) else None)"
   ],
   "metadata": {
    "collapsed": false
   }
  },
  {
   "cell_type": "code",
   "execution_count": 46,
   "outputs": [
    {
     "data": {
      "text/plain": "        r_v2  r_v3\n0     1.2100  1.13\n1     1.4100   NaN\n2     1.4800   NaN\n3     1.4305   NaN\n4     1.4600   NaN\n...      ...   ...\n4975  1.3770   NaN\n4976  1.7500   NaN\n4977  1.5850   NaN\n4978  1.3526   NaN\n4979  2.5100   NaN\n\n[4980 rows x 2 columns]",
      "text/html": "<div>\n<style scoped>\n    .dataframe tbody tr th:only-of-type {\n        vertical-align: middle;\n    }\n\n    .dataframe tbody tr th {\n        vertical-align: top;\n    }\n\n    .dataframe thead th {\n        text-align: right;\n    }\n</style>\n<table border=\"1\" class=\"dataframe\">\n  <thead>\n    <tr style=\"text-align: right;\">\n      <th></th>\n      <th>r_v2</th>\n      <th>r_v3</th>\n    </tr>\n  </thead>\n  <tbody>\n    <tr>\n      <th>0</th>\n      <td>1.2100</td>\n      <td>1.13</td>\n    </tr>\n    <tr>\n      <th>1</th>\n      <td>1.4100</td>\n      <td>NaN</td>\n    </tr>\n    <tr>\n      <th>2</th>\n      <td>1.4800</td>\n      <td>NaN</td>\n    </tr>\n    <tr>\n      <th>3</th>\n      <td>1.4305</td>\n      <td>NaN</td>\n    </tr>\n    <tr>\n      <th>4</th>\n      <td>1.4600</td>\n      <td>NaN</td>\n    </tr>\n    <tr>\n      <th>...</th>\n      <td>...</td>\n      <td>...</td>\n    </tr>\n    <tr>\n      <th>4975</th>\n      <td>1.3770</td>\n      <td>NaN</td>\n    </tr>\n    <tr>\n      <th>4976</th>\n      <td>1.7500</td>\n      <td>NaN</td>\n    </tr>\n    <tr>\n      <th>4977</th>\n      <td>1.5850</td>\n      <td>NaN</td>\n    </tr>\n    <tr>\n      <th>4978</th>\n      <td>1.3526</td>\n      <td>NaN</td>\n    </tr>\n    <tr>\n      <th>4979</th>\n      <td>2.5100</td>\n      <td>NaN</td>\n    </tr>\n  </tbody>\n</table>\n<p>4980 rows × 2 columns</p>\n</div>"
     },
     "execution_count": 46,
     "metadata": {},
     "output_type": "execute_result"
    }
   ],
   "source": [
    "df[['r_v2', 'r_v3']]"
   ],
   "metadata": {
    "collapsed": false
   }
  },
  {
   "cell_type": "markdown",
   "source": [
    "Found the mean and put the values in the column [raw_value_clean]"
   ],
   "metadata": {
    "collapsed": false
   }
  },
  {
   "cell_type": "code",
   "execution_count": 47,
   "outputs": [
    {
     "data": {
      "text/plain": "        raw_value  raw_value_clean\n0     1.21 , 1.13           1.1700\n1            1.41           1.4100\n2            1.48           1.4800\n3          1.4305           1.4305\n4            1.46           1.4600\n...           ...              ...\n4975        1.377           1.3770\n4976         1.75           1.7500\n4977        1.585           1.5850\n4978       1.3526           1.3526\n4979         2.51           2.5100\n\n[4980 rows x 2 columns]",
      "text/html": "<div>\n<style scoped>\n    .dataframe tbody tr th:only-of-type {\n        vertical-align: middle;\n    }\n\n    .dataframe tbody tr th {\n        vertical-align: top;\n    }\n\n    .dataframe thead th {\n        text-align: right;\n    }\n</style>\n<table border=\"1\" class=\"dataframe\">\n  <thead>\n    <tr style=\"text-align: right;\">\n      <th></th>\n      <th>raw_value</th>\n      <th>raw_value_clean</th>\n    </tr>\n  </thead>\n  <tbody>\n    <tr>\n      <th>0</th>\n      <td>1.21 , 1.13</td>\n      <td>1.1700</td>\n    </tr>\n    <tr>\n      <th>1</th>\n      <td>1.41</td>\n      <td>1.4100</td>\n    </tr>\n    <tr>\n      <th>2</th>\n      <td>1.48</td>\n      <td>1.4800</td>\n    </tr>\n    <tr>\n      <th>3</th>\n      <td>1.4305</td>\n      <td>1.4305</td>\n    </tr>\n    <tr>\n      <th>4</th>\n      <td>1.46</td>\n      <td>1.4600</td>\n    </tr>\n    <tr>\n      <th>...</th>\n      <td>...</td>\n      <td>...</td>\n    </tr>\n    <tr>\n      <th>4975</th>\n      <td>1.377</td>\n      <td>1.3770</td>\n    </tr>\n    <tr>\n      <th>4976</th>\n      <td>1.75</td>\n      <td>1.7500</td>\n    </tr>\n    <tr>\n      <th>4977</th>\n      <td>1.585</td>\n      <td>1.5850</td>\n    </tr>\n    <tr>\n      <th>4978</th>\n      <td>1.3526</td>\n      <td>1.3526</td>\n    </tr>\n    <tr>\n      <th>4979</th>\n      <td>2.51</td>\n      <td>2.5100</td>\n    </tr>\n  </tbody>\n</table>\n<p>4980 rows × 2 columns</p>\n</div>"
     },
     "execution_count": 47,
     "metadata": {},
     "output_type": "execute_result"
    }
   ],
   "source": [
    "df[pd.to_numeric(df['r_v2'], errors='coerce').notna()]\n",
    "df[pd.to_numeric(df['r_v3'], errors='coerce').notna()]\n",
    "df['raw_value_clean'] = df[['r_v2', 'r_v3']].mean(skipna=True, axis=1)\n",
    "df[['raw_value', 'raw_value_clean']]"
   ],
   "metadata": {
    "collapsed": false
   }
  },
  {
   "cell_type": "markdown",
   "source": [
    "Display values less than 1 and replace them with NaN and delete empty values withe whole row"
   ],
   "metadata": {
    "collapsed": false
   }
  },
  {
   "cell_type": "code",
   "execution_count": 48,
   "outputs": [
    {
     "name": "stderr",
     "output_type": "stream",
     "text": [
      "C:\\Users\\user\\AppData\\Local\\Temp\\ipykernel_10988\\2985116686.py:2: FutureWarning: The pandas.np module is deprecated and will be removed from pandas in a future version. Import numpy directly instead.\n",
      "  df.loc[df['raw_value_clean'] < 1, 'raw_value_clean'] = pd.np.nan\n"
     ]
    }
   ],
   "source": [
    "less_than_one = df.loc[df['raw_value_clean'] < 1, 'raw_value_clean']\n",
    "df.loc[df['raw_value_clean'] < 1, 'raw_value_clean'] = pd.np.nan\n",
    "df = df.dropna(subset=['raw_value_clean'])"
   ],
   "metadata": {
    "collapsed": false
   }
  },
  {
   "cell_type": "markdown",
   "source": [
    "Identify outliers and replace them with NaN, then delete them"
   ],
   "metadata": {
    "collapsed": false
   }
  },
  {
   "cell_type": "code",
   "execution_count": 49,
   "outputs": [
    {
     "name": "stderr",
     "output_type": "stream",
     "text": [
      "C:\\Users\\user\\AppData\\Local\\Temp\\ipykernel_10988\\4137595389.py:4: FutureWarning: The pandas.np module is deprecated and will be removed from pandas in a future version. Import numpy directly instead.\n",
      "  df.loc[(df['raw_value_clean'] < Q1 - 1.5 * IQR) | (df['raw_value_clean'] > Q3 + 1.5 * IQR), 'raw_value_clean'] = pd.np.nan\n"
     ]
    }
   ],
   "source": [
    "Q1 = df['raw_value_clean'].quantile(0.25)\n",
    "Q3 = df['raw_value_clean'].quantile(0.75)\n",
    "IQR = Q3 - Q1\n",
    "df.loc[(df['raw_value_clean'] < Q1 - 1.5 * IQR) | (df['raw_value_clean'] > Q3 + 1.5 * IQR), 'raw_value_clean'] = pd.np.nan\n",
    "df = df.dropna(subset=['raw_value_clean'])"
   ],
   "metadata": {
    "collapsed": false
   }
  }
 ],
 "metadata": {
  "kernelspec": {
   "display_name": "Python 3 (ipykernel)",
   "language": "python",
   "name": "python3"
  },
  "language_info": {
   "codemirror_mode": {
    "name": "ipython",
    "version": 3
   },
   "file_extension": ".py",
   "mimetype": "text/x-python",
   "name": "python",
   "nbconvert_exporter": "python",
   "pygments_lexer": "ipython3",
   "version": "3.11.1"
  }
 },
 "nbformat": 4,
 "nbformat_minor": 1
}
